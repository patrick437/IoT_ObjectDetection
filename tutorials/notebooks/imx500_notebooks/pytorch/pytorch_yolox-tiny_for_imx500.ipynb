{
 "cells": [
  {
   "cell_type": "markdown",
   "id": "fab9d9939dc74da4",
   "metadata": {
    "collapsed": false
   },
   "source": [
    "# YOLOX-Tiny Object Detection - Quantization for IMX500\n",
    "\n",
    "[Run this tutorial in Google Colab](https://colab.research.google.com/github/sony/model_optimization/blob/main/tutorials/notebooks/imx500_notebooks/pytorch/pytorch_yolox-tiny_for_imx500.ipynb)\n",
    "\n",
    "## Overview\n",
    "\n",
    "In this tutorial, we will illustrate a basic and quick process of preparing a pre-trained model for deployment using MCT. Specifically, we will demonstrate how to download a pre-trained pytorch YOLOX-Tiny model, compress it, and make it deployment-ready using MCT's post-training quantization techniques.\n",
    "\n",
    "We will use an existing pre-trained YOLOX-Tiny model based on [YOLOX](https://github.com/Megvii-BaseDetection/YOLOX) and integrate Box decoding and NMS to the model. The model was slightly adjusted for model quantization. We will quantize the model using MCT post training quantization technique and evaluate the performance of the floating point model and the quantized model on COCO dataset.\n",
    "\n",
    "\n",
    "## Summary\n",
    "\n",
    "In this tutorial we will cover:\n",
    "\n",
    "1. Post-Training Quantization (PTQ) using MCT of YoloX object detection model.\n",
    "2. Data preparation: loading and preprocessing validation and representative datasets from COCO.\n",
    "3. Accuracy evaluation of the floating-point and the quantized models."
   ]
  },
  {
   "cell_type": "markdown",
   "id": "d74f9c855ec54081",
   "metadata": {
    "collapsed": false
   },
   "source": [
    "## Setup\n",
    "### Install the relevant packages"
   ]
  },
  {
   "cell_type": "code",
   "execution_count": 2,
   "id": "7c7fa04c9903736f",
   "metadata": {
    "collapsed": false
   },
   "outputs": [
    {
     "name": "stderr",
     "output_type": "stream",
     "text": [
      "\n",
      "[notice] A new release of pip is available: 24.2 -> 25.0.1\n",
      "[notice] To update, run: python.exe -m pip install --upgrade pip\n"
     ]
    },
    {
     "name": "stdout",
     "output_type": "stream",
     "text": [
      "Requirement already satisfied: onnx in c:\\users\\patrick\\appdata\\local\\programs\\python\\python310\\lib\\site-packages (1.16.2)\n",
      "Requirement already satisfied: numpy>=1.20 in c:\\users\\patrick\\appdata\\local\\programs\\python\\python310\\lib\\site-packages (from onnx) (1.26.2)\n",
      "Requirement already satisfied: protobuf>=3.20.2 in c:\\users\\patrick\\appdata\\local\\programs\\python\\python310\\lib\\site-packages (from onnx) (5.28.2)\n"
     ]
    },
    {
     "name": "stderr",
     "output_type": "stream",
     "text": [
      "\n",
      "[notice] A new release of pip is available: 24.2 -> 25.0.1\n",
      "[notice] To update, run: python.exe -m pip install --upgrade pip\n",
      "\n",
      "[notice] A new release of pip is available: 24.2 -> 25.0.1\n",
      "[notice] To update, run: python.exe -m pip install --upgrade pip\n",
      "\n",
      "[notice] A new release of pip is available: 24.2 -> 25.0.1\n",
      "[notice] To update, run: python.exe -m pip install --upgrade pip\n",
      "ERROR: Invalid requirement: \"'sony-custom-layers'\": Expected package name at the start of dependency specifier\n",
      "    'sony-custom-layers'\n",
      "    ^\n"
     ]
    }
   ],
   "source": [
    "!pip install -q torch\n",
    "!pip install onnx\n",
    "!pip install -q pycocotools\n",
    "!pip install 'sony-custom-layers'"
   ]
  },
  {
   "cell_type": "markdown",
   "id": "57717bc8f59a0d85",
   "metadata": {
    "collapsed": false
   },
   "source": [
    "Install MCT (if it’s not already installed). Additionally, in order to use all the necessary utility functions for this tutorial, we also copy [MCT tutorials folder](https://github.com/sony/model_optimization/tree/main/tutorials) and add it to the system path."
   ]
  },
  {
   "cell_type": "code",
   "execution_count": 3,
   "id": "9728247bc20d0600",
   "metadata": {
    "collapsed": false
   },
   "outputs": [
    {
     "name": "stdout",
     "output_type": "stream",
     "text": [
      "Collecting model_compression_toolkit\n",
      "  Downloading model_compression_toolkit-2.3.0-py3-none-any.whl.metadata (26 kB)\n",
      "Requirement already satisfied: networkx!=2.8.1 in c:\\users\\patrick\\appdata\\local\\programs\\python\\python310\\lib\\site-packages (from model_compression_toolkit) (3.3)\n",
      "Requirement already satisfied: tqdm in c:\\users\\patrick\\appdata\\local\\programs\\python\\python310\\lib\\site-packages (from model_compression_toolkit) (4.66.5)\n",
      "Requirement already satisfied: Pillow in c:\\users\\patrick\\appdata\\local\\programs\\python\\python310\\lib\\site-packages (from model_compression_toolkit) (10.1.0)\n",
      "Requirement already satisfied: numpy<2.0 in c:\\users\\patrick\\appdata\\local\\programs\\python\\python310\\lib\\site-packages (from model_compression_toolkit) (1.26.2)\n",
      "Requirement already satisfied: opencv-python in c:\\users\\patrick\\appdata\\local\\programs\\python\\python310\\lib\\site-packages (from model_compression_toolkit) (4.8.1.78)\n",
      "Collecting scikit-image (from model_compression_toolkit)\n",
      "  Downloading scikit_image-0.25.2-cp310-cp310-win_amd64.whl.metadata (14 kB)\n",
      "Collecting scikit-learn (from model_compression_toolkit)\n",
      "  Downloading scikit_learn-1.6.1-cp310-cp310-win_amd64.whl.metadata (15 kB)\n",
      "Collecting tensorboard (from model_compression_toolkit)\n",
      "  Downloading tensorboard-2.19.0-py3-none-any.whl.metadata (1.8 kB)\n",
      "Collecting PuLP (from model_compression_toolkit)\n",
      "  Downloading PuLP-3.0.2-py3-none-any.whl.metadata (6.7 kB)\n",
      "Requirement already satisfied: matplotlib<3.10.0 in c:\\users\\patrick\\appdata\\local\\programs\\python\\python310\\lib\\site-packages (from model_compression_toolkit) (3.8.2)\n",
      "Requirement already satisfied: scipy in c:\\users\\patrick\\appdata\\local\\programs\\python\\python310\\lib\\site-packages (from model_compression_toolkit) (1.11.4)\n",
      "Requirement already satisfied: protobuf in c:\\users\\patrick\\appdata\\local\\programs\\python\\python310\\lib\\site-packages (from model_compression_toolkit) (5.28.2)\n",
      "Collecting mct-quantizers==1.5.2 (from model_compression_toolkit)\n",
      "  Downloading mct_quantizers-1.5.2-py3-none-any.whl.metadata (4.5 kB)\n",
      "Collecting pydantic<2.0 (from model_compression_toolkit)\n",
      "  Downloading pydantic-1.10.21-cp310-cp310-win_amd64.whl.metadata (155 kB)\n",
      "Requirement already satisfied: packaging in c:\\users\\patrick\\appdata\\local\\programs\\python\\python310\\lib\\site-packages (from mct-quantizers==1.5.2->model_compression_toolkit) (23.1)\n",
      "Requirement already satisfied: contourpy>=1.0.1 in c:\\users\\patrick\\appdata\\local\\programs\\python\\python310\\lib\\site-packages (from matplotlib<3.10.0->model_compression_toolkit) (1.2.0)\n",
      "Requirement already satisfied: cycler>=0.10 in c:\\users\\patrick\\appdata\\local\\programs\\python\\python310\\lib\\site-packages (from matplotlib<3.10.0->model_compression_toolkit) (0.12.1)\n",
      "Requirement already satisfied: fonttools>=4.22.0 in c:\\users\\patrick\\appdata\\local\\programs\\python\\python310\\lib\\site-packages (from matplotlib<3.10.0->model_compression_toolkit) (4.47.0)\n",
      "Requirement already satisfied: kiwisolver>=1.3.1 in c:\\users\\patrick\\appdata\\local\\programs\\python\\python310\\lib\\site-packages (from matplotlib<3.10.0->model_compression_toolkit) (1.4.5)\n",
      "Requirement already satisfied: pyparsing>=2.3.1 in c:\\users\\patrick\\appdata\\local\\programs\\python\\python310\\lib\\site-packages (from matplotlib<3.10.0->model_compression_toolkit) (3.1.1)\n",
      "Requirement already satisfied: python-dateutil>=2.7 in c:\\users\\patrick\\appdata\\local\\programs\\python\\python310\\lib\\site-packages (from matplotlib<3.10.0->model_compression_toolkit) (2.8.2)\n",
      "Requirement already satisfied: typing-extensions>=4.2.0 in c:\\users\\patrick\\appdata\\local\\programs\\python\\python310\\lib\\site-packages (from pydantic<2.0->model_compression_toolkit) (4.12.2)\n",
      "Collecting imageio!=2.35.0,>=2.33 (from scikit-image->model_compression_toolkit)\n",
      "  Downloading imageio-2.37.0-py3-none-any.whl.metadata (5.2 kB)\n",
      "Collecting tifffile>=2022.8.12 (from scikit-image->model_compression_toolkit)\n",
      "  Downloading tifffile-2025.2.18-py3-none-any.whl.metadata (31 kB)\n",
      "Collecting lazy-loader>=0.4 (from scikit-image->model_compression_toolkit)\n",
      "  Using cached lazy_loader-0.4-py3-none-any.whl.metadata (7.6 kB)\n",
      "Collecting joblib>=1.2.0 (from scikit-learn->model_compression_toolkit)\n",
      "  Using cached joblib-1.4.2-py3-none-any.whl.metadata (5.4 kB)\n",
      "Collecting threadpoolctl>=3.1.0 (from scikit-learn->model_compression_toolkit)\n",
      "  Using cached threadpoolctl-3.5.0-py3-none-any.whl.metadata (13 kB)\n",
      "Collecting absl-py>=0.4 (from tensorboard->model_compression_toolkit)\n",
      "  Using cached absl_py-2.1.0-py3-none-any.whl.metadata (2.3 kB)\n",
      "Collecting grpcio>=1.48.2 (from tensorboard->model_compression_toolkit)\n",
      "  Downloading grpcio-1.70.0-cp310-cp310-win_amd64.whl.metadata (4.0 kB)\n",
      "Requirement already satisfied: markdown>=2.6.8 in c:\\users\\patrick\\appdata\\local\\programs\\python\\python310\\lib\\site-packages (from tensorboard->model_compression_toolkit) (3.3.6)\n",
      "Requirement already satisfied: setuptools>=41.0.0 in c:\\users\\patrick\\appdata\\local\\programs\\python\\python310\\lib\\site-packages (from tensorboard->model_compression_toolkit) (65.5.0)\n",
      "Requirement already satisfied: six>1.9 in c:\\users\\patrick\\appdata\\local\\programs\\python\\python310\\lib\\site-packages (from tensorboard->model_compression_toolkit) (1.16.0)\n",
      "Collecting tensorboard-data-server<0.8.0,>=0.7.0 (from tensorboard->model_compression_toolkit)\n",
      "  Using cached tensorboard_data_server-0.7.2-py3-none-any.whl.metadata (1.1 kB)\n",
      "Collecting werkzeug>=1.0.1 (from tensorboard->model_compression_toolkit)\n",
      "  Using cached werkzeug-3.1.3-py3-none-any.whl.metadata (3.7 kB)\n",
      "Requirement already satisfied: colorama in c:\\users\\patrick\\appdata\\local\\programs\\python\\python310\\lib\\site-packages (from tqdm->model_compression_toolkit) (0.4.6)\n",
      "Requirement already satisfied: MarkupSafe>=2.1.1 in c:\\users\\patrick\\appdata\\local\\programs\\python\\python310\\lib\\site-packages (from werkzeug>=1.0.1->tensorboard->model_compression_toolkit) (2.1.5)\n",
      "Downloading model_compression_toolkit-2.3.0-py3-none-any.whl (962 kB)\n",
      "   ---------------------------------------- 0.0/962.7 kB ? eta -:--:--\n",
      "   ---------------------------------------- 962.7/962.7 kB 7.5 MB/s eta 0:00:00\n",
      "Downloading mct_quantizers-1.5.2-py3-none-any.whl (104 kB)\n",
      "Downloading pydantic-1.10.21-cp310-cp310-win_amd64.whl (2.3 MB)\n",
      "   ---------------------------------------- 0.0/2.3 MB ? eta -:--:--\n",
      "   --------------------------- ------------ 1.6/2.3 MB 7.0 MB/s eta 0:00:01\n",
      "   ---------------------------------------- 2.3/2.3 MB 5.7 MB/s eta 0:00:00\n",
      "Downloading PuLP-3.0.2-py3-none-any.whl (17.7 MB)\n",
      "   ---------------------------------------- 0.0/17.7 MB ? eta -:--:--\n",
      "   -- ------------------------------------- 1.3/17.7 MB 6.7 MB/s eta 0:00:03\n",
      "   ---- ----------------------------------- 2.1/17.7 MB 5.1 MB/s eta 0:00:04\n",
      "   ----- ---------------------------------- 2.4/17.7 MB 4.3 MB/s eta 0:00:04\n",
      "   ------ --------------------------------- 2.9/17.7 MB 3.4 MB/s eta 0:00:05\n",
      "   --------- ------------------------------ 4.2/17.7 MB 3.9 MB/s eta 0:00:04\n",
      "   ------------ --------------------------- 5.5/17.7 MB 4.4 MB/s eta 0:00:03\n",
      "   --------------- ------------------------ 6.8/17.7 MB 4.8 MB/s eta 0:00:03\n",
      "   ----------------- ---------------------- 7.9/17.7 MB 4.8 MB/s eta 0:00:03\n",
      "   -------------------- ------------------- 9.2/17.7 MB 4.8 MB/s eta 0:00:02\n",
      "   ----------------------- ---------------- 10.5/17.7 MB 5.0 MB/s eta 0:00:02\n",
      "   --------------------------- ------------ 12.1/17.7 MB 5.4 MB/s eta 0:00:02\n",
      "   ------------------------------- -------- 13.9/17.7 MB 5.6 MB/s eta 0:00:01\n",
      "   ----------------------------------- ---- 15.7/17.7 MB 5.9 MB/s eta 0:00:01\n",
      "   ---------------------------------------  17.3/17.7 MB 6.0 MB/s eta 0:00:01\n",
      "   ---------------------------------------- 17.7/17.7 MB 5.8 MB/s eta 0:00:00\n",
      "Downloading scikit_image-0.25.2-cp310-cp310-win_amd64.whl (12.8 MB)\n",
      "   ---------------------------------------- 0.0/12.8 MB ? eta -:--:--\n",
      "   ----- ---------------------------------- 1.8/12.8 MB 11.2 MB/s eta 0:00:01\n",
      "   ---------- ----------------------------- 3.4/12.8 MB 9.1 MB/s eta 0:00:02\n",
      "   ------------- -------------------------- 4.2/12.8 MB 8.1 MB/s eta 0:00:02\n",
      "   ------------------ --------------------- 6.0/12.8 MB 7.4 MB/s eta 0:00:01\n",
      "   ------------------------- -------------- 8.1/12.8 MB 8.1 MB/s eta 0:00:01\n",
      "   ----------------------------- ---------- 9.4/12.8 MB 8.0 MB/s eta 0:00:01\n",
      "   ---------------------------------- ----- 11.0/12.8 MB 7.7 MB/s eta 0:00:01\n",
      "   ---------------------------------------- 12.8/12.8 MB 7.8 MB/s eta 0:00:00\n",
      "Downloading scikit_learn-1.6.1-cp310-cp310-win_amd64.whl (11.1 MB)\n",
      "   ---------------------------------------- 0.0/11.1 MB ? eta -:--:--\n",
      "   ----- ---------------------------------- 1.6/11.1 MB 7.6 MB/s eta 0:00:02\n",
      "   ------------ --------------------------- 3.4/11.1 MB 8.4 MB/s eta 0:00:01\n",
      "   ---------------- ----------------------- 4.7/11.1 MB 7.5 MB/s eta 0:00:01\n",
      "   ---------------------- ----------------- 6.3/11.1 MB 7.6 MB/s eta 0:00:01\n",
      "   ------------------------------- -------- 8.7/11.1 MB 8.1 MB/s eta 0:00:01\n",
      "   ------------------------------------- -- 10.5/11.1 MB 8.3 MB/s eta 0:00:01\n",
      "   ---------------------------------------- 11.1/11.1 MB 8.1 MB/s eta 0:00:00\n",
      "Downloading tensorboard-2.19.0-py3-none-any.whl (5.5 MB)\n",
      "   ---------------------------------------- 0.0/5.5 MB ? eta -:--:--\n",
      "   ------------- -------------------------- 1.8/5.5 MB 10.0 MB/s eta 0:00:01\n",
      "   ------------------------------ --------- 4.2/5.5 MB 10.1 MB/s eta 0:00:01\n",
      "   ---------------------------------------- 5.5/5.5 MB 9.9 MB/s eta 0:00:00\n",
      "Using cached absl_py-2.1.0-py3-none-any.whl (133 kB)\n",
      "Downloading grpcio-1.70.0-cp310-cp310-win_amd64.whl (4.3 MB)\n",
      "   ---------------------------------------- 0.0/4.3 MB ? eta -:--:--\n",
      "   --------------------- ------------------ 2.4/4.3 MB 11.2 MB/s eta 0:00:01\n",
      "   ------------------------------------ --- 3.9/4.3 MB 11.2 MB/s eta 0:00:01\n",
      "   ---------------------------------------- 4.3/4.3 MB 8.9 MB/s eta 0:00:00\n",
      "Downloading imageio-2.37.0-py3-none-any.whl (315 kB)\n",
      "Using cached joblib-1.4.2-py3-none-any.whl (301 kB)\n",
      "Using cached lazy_loader-0.4-py3-none-any.whl (12 kB)\n",
      "Using cached tensorboard_data_server-0.7.2-py3-none-any.whl (2.4 kB)\n",
      "Using cached threadpoolctl-3.5.0-py3-none-any.whl (18 kB)\n",
      "Downloading tifffile-2025.2.18-py3-none-any.whl (226 kB)\n",
      "Using cached werkzeug-3.1.3-py3-none-any.whl (224 kB)\n",
      "Installing collected packages: werkzeug, tifffile, threadpoolctl, tensorboard-data-server, pydantic, PuLP, mct-quantizers, lazy-loader, joblib, imageio, grpcio, absl-py, tensorboard, scikit-learn, scikit-image, model_compression_toolkit\n",
      "Successfully installed PuLP-3.0.2 absl-py-2.1.0 grpcio-1.70.0 imageio-2.37.0 joblib-1.4.2 lazy-loader-0.4 mct-quantizers-1.5.2 model_compression_toolkit-2.3.0 pydantic-1.10.21 scikit-image-0.25.2 scikit-learn-1.6.1 tensorboard-2.19.0 tensorboard-data-server-0.7.2 threadpoolctl-3.5.0 tifffile-2025.2.18 werkzeug-3.1.3\n"
     ]
    },
    {
     "name": "stderr",
     "output_type": "stream",
     "text": [
      "\n",
      "[notice] A new release of pip is available: 24.2 -> 25.0.1\n",
      "[notice] To update, run: python.exe -m pip install --upgrade pip\n",
      "Cloning into 'temp_mct'...\n",
      "Updating files:  34% (428/1242)\n",
      "Updating files:  35% (435/1242)\n",
      "Updating files:  36% (448/1242)\n",
      "Updating files:  37% (460/1242)\n",
      "Updating files:  38% (472/1242)\n",
      "Updating files:  39% (485/1242)\n",
      "Updating files:  40% (497/1242)\n",
      "Updating files:  41% (510/1242)\n",
      "Updating files:  42% (522/1242)\n",
      "Updating files:  43% (535/1242)\n",
      "Updating files:  44% (547/1242)\n",
      "Updating files:  45% (559/1242)\n",
      "Updating files:  46% (572/1242)\n",
      "Updating files:  47% (584/1242)\n",
      "Updating files:  48% (597/1242)\n",
      "Updating files:  49% (609/1242)\n",
      "Updating files:  50% (621/1242)\n",
      "Updating files:  51% (634/1242)\n",
      "Updating files:  52% (646/1242)\n",
      "Updating files:  53% (659/1242)\n",
      "Updating files:  54% (671/1242)\n",
      "Updating files:  55% (684/1242)\n",
      "Updating files:  56% (696/1242)\n",
      "Updating files:  57% (708/1242)\n",
      "Updating files:  58% (721/1242)\n",
      "Updating files:  59% (733/1242)\n",
      "Updating files:  60% (746/1242)\n",
      "Updating files:  61% (758/1242)\n",
      "Updating files:  62% (771/1242)\n",
      "Updating files:  63% (783/1242)\n",
      "Updating files:  64% (795/1242)\n",
      "Updating files:  65% (808/1242)\n",
      "Updating files:  66% (820/1242)\n",
      "Updating files:  67% (833/1242)\n",
      "Updating files:  68% (845/1242)\n",
      "Updating files:  69% (857/1242)\n",
      "Updating files:  70% (870/1242)\n",
      "Updating files:  71% (882/1242)\n",
      "Updating files:  72% (895/1242)\n",
      "Updating files:  73% (907/1242)\n",
      "Updating files:  74% (920/1242)\n",
      "Updating files:  75% (932/1242)\n",
      "Updating files:  76% (944/1242)\n",
      "Updating files:  77% (957/1242)\n",
      "Updating files:  78% (969/1242)\n",
      "Updating files:  79% (982/1242)\n",
      "Updating files:  80% (994/1242)\n",
      "Updating files:  81% (1007/1242)\n",
      "Updating files:  81% (1015/1242)\n",
      "Updating files:  82% (1019/1242)\n",
      "Updating files:  83% (1031/1242)\n",
      "Updating files:  84% (1044/1242)\n",
      "Updating files:  85% (1056/1242)\n",
      "Updating files:  86% (1069/1242)\n",
      "Updating files:  87% (1081/1242)\n",
      "Updating files:  88% (1093/1242)\n",
      "Updating files:  89% (1106/1242)\n",
      "Updating files:  90% (1118/1242)\n",
      "Updating files:  91% (1131/1242)\n",
      "Updating files:  92% (1143/1242)\n",
      "Updating files:  93% (1156/1242)\n",
      "Updating files:  94% (1168/1242)\n",
      "Updating files:  95% (1180/1242)\n",
      "Updating files:  96% (1193/1242)\n",
      "Updating files:  97% (1205/1242)\n",
      "Updating files:  98% (1218/1242)\n",
      "Updating files:  99% (1230/1242)\n",
      "Updating files: 100% (1242/1242)\n",
      "Updating files: 100% (1242/1242), done.\n",
      "'mv' is not recognized as an internal or external command,\n",
      "operable program or batch file.\n"
     ]
    }
   ],
   "source": [
    "import sys\n",
    "import os\n",
    "import importlib\n",
    "\n",
    "if not importlib.util.find_spec('model_compression_toolkit'):\n",
    "    !pip install model_compression_toolkit\n",
    "!git clone https://github.com/sony/model_optimization.git temp_mct && mv temp_mct/tutorials . && \\rm -rf temp_mct\n",
    "sys.path.insert(0,\"tutorials\")"
   ]
  },
  {
   "cell_type": "markdown",
   "id": "7a1038b9fd98bba2",
   "metadata": {
    "collapsed": false
   },
   "source": [
    "### Download COCO evaluation set"
   ]
  },
  {
   "cell_type": "code",
   "execution_count": null,
   "id": "8bea492d71b4060f",
   "metadata": {
    "collapsed": false
   },
   "outputs": [],
   "source": [
    "if not os.path.isdir('coco'):\n",
    "    !wget -nc http://images.cocodataset.org/annotations/annotations_trainval2017.zip\n",
    "    !unzip -q -o annotations_trainval2017.zip -d ./coco\n",
    "    !echo Done loading annotations\n",
    "    !wget -nc http://images.cocodataset.org/zips/val2017.zip\n",
    "    !unzip -q -o val2017.zip -d ./coco\n",
    "    !echo Done loading val2017 images"
   ]
  },
  {
   "cell_type": "markdown",
   "id": "084c2b8b-3175-4d46-a18a-7c4d8b6fcb38",
   "metadata": {},
   "source": [
    "## Quantization\n",
    "\n",
    "### Download a Pre-Trained Model \n",
    "\n",
    "We begin by downloading a pre-trained YOLOX-Tiny model from [YOLOX github](https://github.com/Megvii-BaseDetection/YOLOX). This implementation is based on [YOLOX](https://github.com/Megvii-BaseDetection/YOLOX) and includes a slightly modified version of YOLOX detection-head (mainly the box decoding part) that was adapted for model quantization. For further insights into the model's implementation details, please refer to [MCT Models Garden - YOLOX](https://github.com/sony/model_optimization/tree/main/tutorials/mct_model_garden/models_pytorch/yolox).  "
   ]
  },
  {
   "cell_type": "code",
   "execution_count": null,
   "id": "e8395b28-4732-4d18-b081-5d3bdf508691",
   "metadata": {},
   "outputs": [],
   "source": [
    "# Download YOLOX-Tiny\n",
    "!wget -nc https://github.com/Megvii-BaseDetection/YOLOX/releases/download/0.1.1rc0/yolox_tiny.pth\n",
    "\n",
    "from tutorials.mct_model_garden.models_pytorch.yolox.yolox import YOLOX\n",
    "import yaml\n",
    "\n",
    "yaml_path = \"tutorials/mct_model_garden/models_pytorch/yolox/yolox.yaml\"\n",
    "with open(yaml_path, 'r', encoding='utf-8') as f:\n",
    "    yolox_cfg = yaml.safe_load(f)\n",
    "\n",
    "yolox_tiny_cfg = yolox_cfg['tiny']\n",
    "model = YOLOX(yolox_tiny_cfg)\n",
    "model.load_weights(\"yolox_tiny.pth\")\n",
    "model.eval()"
   ]
  },
  {
   "cell_type": "markdown",
   "id": "3cde2f8e-0642-4374-a1f4-df2775fe7767",
   "metadata": {},
   "source": [
    "### Post training quantization (PTQ) using Model Compression Toolkit (MCT)\n",
    "\n",
    "Now, we are all set to use MCT's post-training quantization. To begin, we'll define a representative dataset and proceed with the model quantization. Please note that, for demonstration purposes, we'll use the evaluation dataset as our representative dataset. We'll calibrate the model using 80 representative images, divided into 30 iterations of 'batch_size' images each. \n"
   ]
  },
  {
   "cell_type": "code",
   "execution_count": null,
   "id": "56393342-cecf-4f64-b9ca-2f515c765942",
   "metadata": {
    "collapsed": false
   },
   "outputs": [],
   "source": [
    "import model_compression_toolkit as mct\n",
    "from tutorials.mct_model_garden.evaluation_metrics.coco_evaluation import coco_dataset_generator\n",
    "from tutorials.mct_model_garden.models_pytorch.yolox.yolox_preprocess import yolox_preprocess_chw_transpose\n",
    "from tutorials.mct_model_garden.models_pytorch.yolox.yolox import YOLOXPostProcess\n",
    "from typing import Iterator\n",
    "\n",
    "REPRESENTATIVE_DATASET_FOLDER = './coco/val2017/'\n",
    "REPRESENTATIVE_DATASET_ANNOTATION_FILE = './coco/annotations/instances_val2017.json'\n",
    "BATCH_SIZE = 4\n",
    "n_iters = 30\n",
    "\n",
    "# Load representative dataset\n",
    "representative_dataset = coco_dataset_generator(dataset_folder=REPRESENTATIVE_DATASET_FOLDER,\n",
    "                                                annotation_file=REPRESENTATIVE_DATASET_ANNOTATION_FILE,\n",
    "                                                preprocess=yolox_preprocess_chw_transpose,\n",
    "                                                batch_size=BATCH_SIZE)\n",
    "\n",
    "\n",
    "def get_representative_dataset(dataset: Iterator, n_iter: int):\n",
    "    \"\"\"\n",
    "    This function creates a representative dataset generator. The generator yields numpy\n",
    "        arrays of batches of shape: [Batch, H, W ,C].\n",
    "    Args:\n",
    "        dataset: dataset iterator\n",
    "        n_iter: number of iterations for MCT for calibration\n",
    "    Returns:\n",
    "        A representative dataset generator\n",
    "    \"\"\"       \n",
    "    def _generator():\n",
    "        for _ind in range(n_iter):\n",
    "            batch, label = next(iter(dataset))\n",
    "            yield [batch]\n",
    "\n",
    "    return _generator\n",
    "\n",
    "# Get representative dataset generator\n",
    "representative_dataset_gen = get_representative_dataset(dataset=representative_dataset, n_iter=n_iters)\n",
    "\n",
    "# Set IMX500 TPC\n",
    "tpc = mct.get_target_platform_capabilities(fw_name=\"pytorch\",\n",
    "                                           target_platform_name='imx500',\n",
    "                                           target_platform_version='v3')\n",
    "\n",
    "# Define target Resource Utilization for mixed precision weights quantization.\n",
    "# Number of parameters of YOLOx-Tiny is 5M and we set target memory (in Bytes) of 87% of 'standard' 8-bit quantization.\n",
    "resource_utilization = mct.core.ResourceUtilization(weights_memory=5e6 * 0.87)\n",
    "\n",
    "# Perform post training quantization\n",
    "quant_model, _ = mct.ptq.pytorch_post_training_quantization(in_module=model,\n",
    "                                                            representative_data_gen=representative_dataset_gen,\n",
    "                                                            target_resource_utilization=resource_utilization,\n",
    "                                                            target_platform_capabilities=tpc)\n",
    "\n",
    "# Integrate the quantized model with box decoder and NMS\n",
    "quant_model = YOLOXPostProcess(quant_model)\n",
    "\n",
    "print('Quantized model is ready!')"
   ]
  },
  {
   "cell_type": "markdown",
   "id": "3be2016acdc9da60",
   "metadata": {
    "collapsed": false
   },
   "source": [
    "### Export\n",
    "\n",
    "Now, we can export the quantized model, ready for deployment om IMX500, into a `.onnx` format file. Please ensure that the `save_model_path` has been set correctly. "
   ]
  },
  {
   "cell_type": "code",
   "execution_count": null,
   "id": "72dd885c7b92fa93",
   "metadata": {
    "collapsed": false
   },
   "outputs": [],
   "source": [
    "mct.exporter.pytorch_export_model(model=quant_model,\n",
    "                                  save_model_path='./model.onnx',\n",
    "                                  repr_dataset=representative_dataset_gen)"
   ]
  },
  {
   "cell_type": "markdown",
   "id": "43a8a6d11d696b09",
   "metadata": {
    "collapsed": false
   },
   "source": [
    "## Evaluation on COCO dataset\n",
    "\n",
    "### Floating point model evaluation\n",
    "Next, we evaluate the floating point model by using `cocoeval` library alongside additional dataset utilities. We can verify the mAP accuracy aligns with that of the original model. \n",
    "Note that we set the preprocessing according to [YOLOX](https://github.com/Megvii-BaseDetection/YOLOX).\n",
    "Please ensure that the dataset path has been set correctly before running this code cell."
   ]
  },
  {
   "cell_type": "code",
   "execution_count": null,
   "id": "01e90967-594b-480f-b2e6-45e2c9ce9cee",
   "metadata": {},
   "outputs": [],
   "source": [
    "from tutorials.mct_model_garden.evaluation_metrics.coco_evaluation import coco_evaluate\n",
    "from tutorials.mct_model_garden.models_pytorch.yolox.yolox import model_predict\n",
    "\n",
    "EVAL_DATASET_FOLDER = './coco/val2017'\n",
    "EVAL_DATASET_ANNOTATION_FILE = './coco/annotations/instances_val2017.json'\n",
    "\n",
    "# Define boxes resizing information to map between the model's output and the original image dimensions\n",
    "output_resize = {'shape': yolox_tiny_cfg['img_size'], 'aspect_ratio_preservation': True, \"align_center\": False, 'normalized_coords': False}\n",
    "\n",
    "# Integrate the floating-point model with box decoder and NMS\n",
    "model = YOLOXPostProcess(model)\n",
    "\n",
    "# Evaluate the floating-point model\n",
    "eval_results = coco_evaluate(model=model,\n",
    "                             dataset_folder=EVAL_DATASET_FOLDER,\n",
    "                             annotation_file=EVAL_DATASET_ANNOTATION_FILE,\n",
    "                             preprocess=yolox_preprocess_chw_transpose,\n",
    "                             output_resize=output_resize,\n",
    "                             batch_size=BATCH_SIZE,\n",
    "                             model_inference=model_predict)\n",
    "\n",
    "print(\"Floating-point model mAP: {:.4f}\".format(eval_results[0]))"
   ]
  },
  {
   "cell_type": "markdown",
   "id": "4fb6bffc-23d1-4852-8ec5-9007361c8eeb",
   "metadata": {},
   "source": [
    "### Quantized model evaluation\n",
    "We can evaluate the performance of the quantized model. There is a slight decrease in performance that can be further mitigated by either expanding the representative dataset or employing MCT's advanced quantization methods, such as GPTQ (Gradient-Based/Enhanced Post Training Quantization)."
   ]
  },
  {
   "cell_type": "code",
   "execution_count": null,
   "id": "8dc7b87c-a9f4-4568-885a-fe009c8f4e8f",
   "metadata": {},
   "outputs": [],
   "source": [
    "# Evaluate quantized model\n",
    "eval_results = coco_evaluate(model=quant_model,\n",
    "                             dataset_folder=EVAL_DATASET_FOLDER,\n",
    "                             annotation_file=EVAL_DATASET_ANNOTATION_FILE,\n",
    "                             preprocess=yolox_preprocess_chw_transpose,\n",
    "                             output_resize=output_resize,\n",
    "                             batch_size=BATCH_SIZE,\n",
    "                             model_inference=model_predict)\n",
    "\n",
    "print(\"Quantized model mAP: {:.4f}\".format(eval_results[0]))"
   ]
  },
  {
   "cell_type": "markdown",
   "id": "6d93352843a27433",
   "metadata": {
    "collapsed": false
   },
   "source": [
    "\\\n",
    "Copyright 2024 Sony Semiconductor Israel, Inc. All rights reserved.\n",
    "\n",
    "Licensed under the Apache License, Version 2.0 (the \"License\");\n",
    "you may not use this file except in compliance with the License.\n",
    "You may obtain a copy of the License at\n",
    "\n",
    "    http://www.apache.org/licenses/LICENSE-2.0\n",
    "\n",
    "Unless required by applicable law or agreed to in writing, software\n",
    "distributed under the License is distributed on an \"AS IS\" BASIS,\n",
    "WITHOUT WARRANTIES OR CONDITIONS OF ANY KIND, either express or implied.\n",
    "See the License for the specific language governing permissions and\n",
    "limitations under the License."
   ]
  }
 ],
 "metadata": {
  "colab": {
   "provenance": []
  },
  "kernelspec": {
   "display_name": "Python 3",
   "language": "python",
   "name": "python3"
  },
  "language_info": {
   "codemirror_mode": {
    "name": "ipython",
    "version": 3
   },
   "file_extension": ".py",
   "mimetype": "text/x-python",
   "name": "python",
   "nbconvert_exporter": "python",
   "pygments_lexer": "ipython3",
   "version": "3.10.9"
  }
 },
 "nbformat": 4,
 "nbformat_minor": 5
}
